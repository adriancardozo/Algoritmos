{
 "cells": [
  {
   "cell_type": "code",
   "execution_count": 1,
   "metadata": {},
   "outputs": [],
   "source": [
    "import random\n",
    "import timeit\n",
    "import matplotlib.pyplot as plt\n",
    "import numpy as np\n",
    "import scipy as sp\n",
    "import scipy.special"
   ]
  },
  {
   "cell_type": "code",
   "execution_count": 2,
   "metadata": {},
   "outputs": [],
   "source": [
    "def busquedaSecuencial(e, lista):\n",
    "    for x in lista:\n",
    "        if e == x:\n",
    "            return True\n",
    "\n",
    "    return False"
   ]
  },
  {
   "cell_type": "code",
   "execution_count": 3,
   "metadata": {},
   "outputs": [],
   "source": [
    "def busquedaBinaria(e, lista):\n",
    "    n = len(lista)\n",
    "    if n < 2:\n",
    "        return busquedaSecuencial(e, lista)\n",
    "    elif e < lista[n//2]:\n",
    "        return busquedaBinaria(e, lista[:n//2])\n",
    "    elif e > lista[n//2]:\n",
    "        return busquedaBinaria(e, lista[n//2 + 1:])\n",
    "    else:\n",
    "        return e == lista[n//2]"
   ]
  },
  {
   "cell_type": "code",
   "execution_count": 4,
   "metadata": {},
   "outputs": [],
   "source": [
    "def busquedaTernaria(e, lista):\n",
    "    n = len(lista)\n",
    "    if n < 3:\n",
    "        return busquedaSecuencial(e, lista)\n",
    "    elif e < lista[n//3]:\n",
    "        return busquedaTernaria(e, lista[:n//3])\n",
    "    elif e > lista[n//3]:\n",
    "        if e < lista[2*n//3]:\n",
    "            return busquedaTernaria(e, lista[n//3 + 1:2*n//3])\n",
    "        elif e > lista[2*n//3]:\n",
    "            return busquedaTernaria(e, lista[2*n//3 + 1:])\n",
    "        else:\n",
    "            return e == lista[2*n//3]\n",
    "    else:\n",
    "        return e == lista[n//3]"
   ]
  },
  {
   "cell_type": "code",
   "execution_count": 5,
   "metadata": {},
   "outputs": [],
   "source": [
    "n_min = 10\n",
    "n_max = 1000\n",
    "st = 2\n",
    "iteraciones = 10\n",
    "\n",
    "t_binaria = list()\n",
    "for n in range(n_min, n_max, st):\n",
    "    suma = 0\n",
    "    for i in range(1, iteraciones):\n",
    "        v = random.sample(range(1, 1000000), n)\n",
    "        v.sort()\n",
    "        suma += timeit.timeit(lambda: busquedaBinaria(1000000, v), number = 1)\n",
    "    promedio = suma / iteraciones\n",
    "    t_binaria.append(promedio)\n",
    "\n",
    "t_ternaria = list()\n",
    "for n in range(n_min, n_max, st):\n",
    "    suma = 0\n",
    "    for i in range(1, iteraciones):\n",
    "        v = random.sample(range(1, 1000000), n)\n",
    "        v.sort()\n",
    "        suma += timeit.timeit(lambda: busquedaTernaria(1000000, v), number = 1)\n",
    "    promedio = suma / iteraciones\n",
    "    t_ternaria.append(promedio)"
   ]
  },
  {
   "cell_type": "code",
   "execution_count": 6,
   "metadata": {},
   "outputs": [
    {
     "data": {
      "text/plain": [
       "<matplotlib.legend.Legend at 0x7fc4f8457d90>"
      ]
     },
     "execution_count": 6,
     "metadata": {},
     "output_type": "execute_result"
    },
    {
     "data": {
      "image/png": "[encoded data removed]",
      "text/plain": [
       "<Figure size 432x288 with 1 Axes>"
      ]
     },
     "metadata": {
      "needs_background": "light"
     },
     "output_type": "display_data"
    }
   ],
   "source": [
    "eje_x = list(range(n_min, n_max, st))\n",
    "plt.plot(eje_x, t_binaria, label = 'binaria')\n",
    "plt.xlabel('n')\n",
    "plt.ylabel('costo')\n",
    "\n",
    "\n",
    "plt.plot(eje_x, t_ternaria, label = 'ternaria')\n",
    "plt.legend()"
   ]
  },
  {
   "cell_type": "code",
   "execution_count": null,
   "metadata": {},
   "outputs": [],
   "source": []
  }
 ],
 "metadata": {
  "kernelspec": {
   "display_name": "Python 3",
   "language": "python",
   "name": "python3"
  },
  "language_info": {
   "codemirror_mode": {
    "name": "ipython",
    "version": 3
   },
   "file_extension": ".py",
   "mimetype": "text/x-python",
   "name": "python",
   "nbconvert_exporter": "python",
   "pygments_lexer": "ipython3",
   "version": "3.8.3"
  }
 },
 "nbformat": 4,
 "nbformat_minor": 4
}
